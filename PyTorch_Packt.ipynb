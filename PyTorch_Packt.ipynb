{
  "nbformat": 4,
  "nbformat_minor": 0,
  "metadata": {
    "colab": {
      "name": "PyTorch - Packt.ipynb",
      "version": "0.3.2",
      "provenance": [],
      "include_colab_link": true
    },
    "kernelspec": {
      "name": "python3",
      "display_name": "Python 3"
    },
    "accelerator": "GPU"
  },
  "cells": [
    {
      "cell_type": "markdown",
      "metadata": {
        "id": "view-in-github",
        "colab_type": "text"
      },
      "source": [
        "[View in Colaboratory](https://colab.research.google.com/github/Masum06/Deep-learning-with-PyTorch-video/blob/master/PyTorch_Packt.ipynb)"
      ]
    },
    {
      "metadata": {
        "id": "EsHq8CE-UPXA",
        "colab_type": "text"
      },
      "cell_type": "markdown",
      "source": [
        "### Installation"
      ]
    },
    {
      "metadata": {
        "id": "ZWW9pDJpUDkH",
        "colab_type": "text"
      },
      "cell_type": "markdown",
      "source": [
        "Fast.ai has all dependencies installed and more. So we install this instead of PyTorch"
      ]
    },
    {
      "metadata": {
        "id": "yHERGYo-RdQ9",
        "colab_type": "code",
        "colab": {
          "base_uri": "https://localhost:8080/",
          "height": 2292
        },
        "outputId": "ca71b7cf-fdf8-4b13-9d75-91521a6f4e0a"
      },
      "cell_type": "code",
      "source": [
        "!pip install fastai"
      ],
      "execution_count": 1,
      "outputs": [
        {
          "output_type": "stream",
          "text": [
            "Collecting fastai\n",
            "\u001b[?25l  Downloading https://files.pythonhosted.org/packages/50/6d/9d0d6e17a78b0598d5e8c49a0d03ffc7ff265ae62eca3e2345fab14edb9b/fastai-0.7.0-py3-none-any.whl (112kB)\n",
            "\u001b[K    100% |████████████████████████████████| 122kB 4.2MB/s \n",
            "\u001b[?25hCollecting sklearn-pandas (from fastai)\n",
            "  Downloading https://files.pythonhosted.org/packages/c5/9e/42d7bcddb09a3ff52d0c60c810ba5d0fded28abbe320c85bbf7368192956/sklearn_pandas-1.6.0-py2.py3-none-any.whl\n",
            "Requirement already satisfied: matplotlib in /usr/local/lib/python3.6/dist-packages (from fastai) (2.1.2)\n",
            "Requirement already satisfied: scipy in /usr/local/lib/python3.6/dist-packages (from fastai) (0.19.1)\n",
            "Requirement already satisfied: pandas in /usr/local/lib/python3.6/dist-packages (from fastai) (0.22.0)\n",
            "Collecting torchvision (from fastai)\n",
            "\u001b[?25l  Downloading https://files.pythonhosted.org/packages/ca/0d/f00b2885711e08bd71242ebe7b96561e6f6d01fdb4b9dcf4d37e2e13c5e1/torchvision-0.2.1-py2.py3-none-any.whl (54kB)\n",
            "\u001b[K    100% |████████████████████████████████| 61kB 6.4MB/s \n",
            "\u001b[?25hRequirement already satisfied: tornado in /usr/local/lib/python3.6/dist-packages (from fastai) (4.5.3)\n",
            "Collecting graphviz (from fastai)\n",
            "  Downloading https://files.pythonhosted.org/packages/53/39/4ab213673844e0c004bed8a0781a0721a3f6bb23eb8854ee75c236428892/graphviz-0.8.4-py2.py3-none-any.whl\n",
            "Requirement already satisfied: ipykernel in /usr/local/lib/python3.6/dist-packages (from fastai) (4.6.1)\n",
            "Requirement already satisfied: bleach in /usr/local/lib/python3.6/dist-packages (from fastai) (2.1.3)\n",
            "Requirement already satisfied: numpy in /usr/local/lib/python3.6/dist-packages (from fastai) (1.14.5)\n",
            "Requirement already satisfied: seaborn in /usr/local/lib/python3.6/dist-packages (from fastai) (0.7.1)\n",
            "Collecting widgetsnbextension (from fastai)\n",
            "\u001b[?25l  Downloading https://files.pythonhosted.org/packages/1e/dd/847f6e5cb98caf819e2dca50109611cc0e43b54e0f0d740ee8586a954b18/widgetsnbextension-3.3.1-py2.py3-none-any.whl (2.2MB)\n",
            "\u001b[K    100% |████████████████████████████████| 2.2MB 7.9MB/s \n",
            "\u001b[?25hRequirement already satisfied: pyparsing in /usr/local/lib/python3.6/dist-packages (from fastai) (2.2.0)\n",
            "Requirement already satisfied: pyzmq in /usr/local/lib/python3.6/dist-packages (from fastai) (16.0.4)\n",
            "Collecting plotnine (from fastai)\n",
            "\u001b[?25l  Downloading https://files.pythonhosted.org/packages/3a/68/cf39dfde4e9fd886703621e3393cd8103cb48d5ecc95b8f048ec148e53a6/plotnine-0.3.0-py2.py3-none-any.whl (3.4MB)\n",
            "\u001b[K    100% |████████████████████████████████| 3.4MB 11.3MB/s \n",
            "\u001b[?25hRequirement already satisfied: traitlets in /usr/local/lib/python3.6/dist-packages (from fastai) (4.3.2)\n",
            "Requirement already satisfied: python-dateutil in /usr/local/lib/python3.6/dist-packages (from fastai) (2.5.3)\n",
            "Requirement already satisfied: PyYAML in /usr/local/lib/python3.6/dist-packages (from fastai) (3.13)\n",
            "Requirement already satisfied: decorator in /usr/local/lib/python3.6/dist-packages (from fastai) (4.3.0)\n",
            "Collecting jupyter (from fastai)\n",
            "  Downloading https://files.pythonhosted.org/packages/83/df/0f5dd132200728a86190397e1ea87cd76244e42d39ec5e88efd25b2abd7e/jupyter-1.0.0-py2.py3-none-any.whl\n",
            "Collecting torchtext (from fastai)\n",
            "\u001b[?25l  Downloading https://files.pythonhosted.org/packages/78/90/474d5944d43001a6e72b9aaed5c3e4f77516fbef2317002da2096fd8b5ea/torchtext-0.2.3.tar.gz (42kB)\n",
            "\u001b[K    100% |████████████████████████████████| 51kB 17.7MB/s \n",
            "\u001b[?25hRequirement already satisfied: MarkupSafe in /usr/local/lib/python3.6/dist-packages (from fastai) (1.0)\n",
            "Collecting pandas-summary (from fastai)\n",
            "  Downloading https://files.pythonhosted.org/packages/97/55/ea54109a4e7a8e7342bdf23e9382c858224263d984b0d95610568e564f59/pandas_summary-0.0.5-py2.py3-none-any.whl\n",
            "Requirement already satisfied: pytz in /usr/local/lib/python3.6/dist-packages (from fastai) (2018.5)\n",
            "Requirement already satisfied: html5lib in /usr/local/lib/python3.6/dist-packages (from fastai) (1.0.1)\n",
            "Requirement already satisfied: Pygments in /usr/local/lib/python3.6/dist-packages (from fastai) (2.1.3)\n",
            "Requirement already satisfied: opencv-python in /usr/local/lib/python3.6/dist-packages (from fastai) (3.4.2.17)\n",
            "Requirement already satisfied: ptyprocess in /usr/local/lib/python3.6/dist-packages (from fastai) (0.6.0)\n",
            "Collecting ipywidgets (from fastai)\n",
            "\u001b[?25l  Downloading https://files.pythonhosted.org/packages/95/0d/0a97f753f1cd070c1dae077b242038e4de0749e7b29789abca75ee881bbe/ipywidgets-7.3.1-py2.py3-none-any.whl (108kB)\n",
            "\u001b[K    100% |████████████████████████████████| 112kB 12.8MB/s \n",
            "\u001b[?25hCollecting bcolz (from fastai)\n",
            "\u001b[?25l  Downloading https://files.pythonhosted.org/packages/5c/4e/23942de9d5c0fb16f10335fa83e52b431bcb8c0d4a8419c9ac206268c279/bcolz-1.2.1.tar.gz (1.5MB)\n",
            "\u001b[K    100% |████████████████████████████████| 1.5MB 7.7MB/s \n",
            "\u001b[?25hRequirement already satisfied: Pillow in /usr/local/lib/python3.6/dist-packages (from fastai) (4.0.0)\n",
            "Requirement already satisfied: cycler in /usr/local/lib/python3.6/dist-packages (from fastai) (0.10.0)\n",
            "Requirement already satisfied: testpath in /usr/local/lib/python3.6/dist-packages (from fastai) (0.3.1)\n",
            "Collecting torch<0.4 (from fastai)\n"
          ],
          "name": "stdout"
        },
        {
          "output_type": "stream",
          "text": [
            "\u001b[?25l  Downloading https://files.pythonhosted.org/packages/5b/a5/e8b50b55b1abac9f1e3346c4242f1e42a82d368a8442cbd50c532922f6c4/torch-0.3.1-cp36-cp36m-manylinux1_x86_64.whl (496.4MB)\n",
            "\u001b[K    100% |████████████████████████████████| 496.4MB 29kB/s \n",
            "\u001b[?25hRequirement already satisfied: entrypoints in /usr/local/lib/python3.6/dist-packages (from fastai) (0.2.3)\n",
            "Requirement already satisfied: ipython in /usr/local/lib/python3.6/dist-packages (from fastai) (5.5.0)\n",
            "Requirement already satisfied: ipython-genutils in /usr/local/lib/python3.6/dist-packages (from fastai) (0.2.0)\n",
            "Collecting jedi (from fastai)\n",
            "\u001b[?25l  Downloading https://files.pythonhosted.org/packages/3d/68/8bbf0ef969095a13ba0d4c77c1945bd86e9811960d052510551d29a2f23b/jedi-0.12.1-py2.py3-none-any.whl (174kB)\n",
            "\u001b[K    100% |████████████████████████████████| 184kB 19.9MB/s \n",
            "\u001b[?25hRequirement already satisfied: pickleshare in /usr/local/lib/python3.6/dist-packages (from fastai) (0.7.4)\n",
            "Requirement already satisfied: Jinja2 in /usr/local/lib/python3.6/dist-packages (from fastai) (2.10)\n",
            "Requirement already satisfied: webencodings in /usr/local/lib/python3.6/dist-packages (from fastai) (0.5.1)\n",
            "Collecting isoweek (from fastai)\n",
            "  Downloading https://files.pythonhosted.org/packages/c2/d4/fe7e2637975c476734fcbf53776e650a29680194eb0dd21dbdc020ca92de/isoweek-1.3.3-py2.py3-none-any.whl\n",
            "Requirement already satisfied: jsonschema in /usr/local/lib/python3.6/dist-packages (from fastai) (2.6.0)\n",
            "Requirement already satisfied: wcwidth in /usr/local/lib/python3.6/dist-packages (from fastai) (0.1.7)\n",
            "Requirement already satisfied: simplegeneric in /usr/local/lib/python3.6/dist-packages (from fastai) (0.8.1)\n",
            "Requirement already satisfied: certifi in /usr/local/lib/python3.6/dist-packages (from fastai) (2018.4.16)\n",
            "Collecting feather-format (from fastai)\n",
            "  Downloading https://files.pythonhosted.org/packages/08/55/940b97cc6f19a19f5dab9efef2f68a0ce43a7632f858b272391f0b851a7e/feather-format-0.4.0.tar.gz\n",
            "Collecting tqdm (from fastai)\n",
            "\u001b[?25l  Downloading https://files.pythonhosted.org/packages/7d/e6/19dfaff08fcbee7f3453e5b537e65a8364f1945f921a36d08be1e2ff3475/tqdm-4.24.0-py2.py3-none-any.whl (43kB)\n",
            "\u001b[K    100% |████████████████████████████████| 51kB 11.2MB/s \n",
            "\u001b[?25hRequirement already satisfied: scikit-learn>=0.15.0 in /usr/local/lib/python3.6/dist-packages (from sklearn-pandas->fastai) (0.19.2)\n",
            "Requirement already satisfied: six>=1.10 in /usr/local/lib/python3.6/dist-packages (from matplotlib->fastai) (1.11.0)\n",
            "Requirement already satisfied: jupyter-client in /usr/local/lib/python3.6/dist-packages (from ipykernel->fastai) (5.2.3)\n",
            "Requirement already satisfied: notebook>=4.4.1 in /usr/local/lib/python3.6/dist-packages (from widgetsnbextension->fastai) (5.2.2)\n",
            "Requirement already satisfied: patsy>=0.4.1 in /usr/local/lib/python3.6/dist-packages (from plotnine->fastai) (0.5.0)\n",
            "Requirement already satisfied: statsmodels>=0.8.0 in /usr/local/lib/python3.6/dist-packages (from plotnine->fastai) (0.8.0)\n",
            "Collecting mizani>=0.4.1 (from plotnine->fastai)\n"
          ],
          "name": "stdout"
        },
        {
          "output_type": "stream",
          "text": [
            "\u001b[?25l  Downloading https://files.pythonhosted.org/packages/52/01/8a3b4c6e45749674a1e5241174b4b63cd6435125e124bec275f3e02c96ac/mizani-0.4.6-py2.py3-none-any.whl (65kB)\r\n",
            "\u001b[K    100% |████████████████████████████████| 71kB 14.5MB/s \n",
            "\u001b[?25hCollecting qtconsole (from jupyter->fastai)\n",
            "\u001b[?25l  Downloading https://files.pythonhosted.org/packages/90/ff/047e0dca2627b162866920e7aa93f04523c0ae81e5c67060eec85701992d/qtconsole-4.3.1-py2.py3-none-any.whl (108kB)\n",
            "\u001b[K    100% |████████████████████████████████| 112kB 18.3MB/s \n",
            "\u001b[?25hRequirement already satisfied: nbconvert in /usr/local/lib/python3.6/dist-packages (from jupyter->fastai) (5.3.1)\n",
            "Collecting jupyter-console (from jupyter->fastai)\n",
            "  Downloading https://files.pythonhosted.org/packages/77/82/6469cd7fccf7958cbe5dce2e623f1e3c5e27f1bb1ad36d90519bc2d5d370/jupyter_console-5.2.0-py2.py3-none-any.whl\n",
            "Requirement already satisfied: requests in /usr/local/lib/python3.6/dist-packages (from torchtext->fastai) (2.18.4)\n",
            "Requirement already satisfied: nbformat>=4.2.0 in /usr/local/lib/python3.6/dist-packages (from ipywidgets->fastai) (4.4.0)\n",
            "Requirement already satisfied: olefile in /usr/local/lib/python3.6/dist-packages (from Pillow->fastai) (0.45.1)\n",
            "Requirement already satisfied: setuptools>=18.5 in /usr/local/lib/python3.6/dist-packages (from ipython->fastai) (39.1.0)\n",
            "Requirement already satisfied: prompt-toolkit<2.0.0,>=1.0.4 in /usr/local/lib/python3.6/dist-packages (from ipython->fastai) (1.0.15)\n",
            "Requirement already satisfied: pexpect; sys_platform != \"win32\" in /usr/local/lib/python3.6/dist-packages (from ipython->fastai) (4.6.0)\n",
            "Collecting parso>=0.3.0 (from jedi->fastai)\n",
            "\u001b[?25l  Downloading https://files.pythonhosted.org/packages/09/51/9c48a46334be50c13d25a3afe55fa05c445699304c5ad32619de953a2305/parso-0.3.1-py2.py3-none-any.whl (88kB)\n",
            "\u001b[K    100% |████████████████████████████████| 92kB 17.9MB/s \n",
            "\u001b[?25hCollecting pyarrow>=0.4.0 (from feather-format->fastai)\n",
            "\u001b[?25l  Downloading https://files.pythonhosted.org/packages/fe/27/576e6c979bfa5f63070f809c930aa85d6198b91d17a64866234597ba861f/pyarrow-0.9.0-cp36-cp36m-manylinux1_x86_64.whl (13.7MB)\n",
            "\u001b[K    100% |████████████████████████████████| 13.7MB 1.7MB/s \n",
            "\u001b[?25hRequirement already satisfied: jupyter-core in /usr/local/lib/python3.6/dist-packages (from jupyter-client->ipykernel->fastai) (4.4.0)\n",
            "Requirement already satisfied: terminado>=0.3.3; sys_platform != \"win32\" in /usr/local/lib/python3.6/dist-packages (from notebook>=4.4.1->widgetsnbextension->fastai) (0.8.1)\n",
            "Collecting palettable (from mizani>=0.4.1->plotnine->fastai)\n",
            "\u001b[?25l  Downloading https://files.pythonhosted.org/packages/56/8a/84537c0354f0d1f03bf644b71bf8e0a50db9c1294181905721a5f3efbf66/palettable-3.1.1-py2.py3-none-any.whl (77kB)\n",
            "\u001b[K    100% |████████████████████████████████| 81kB 14.5MB/s \n",
            "\u001b[?25hRequirement already satisfied: pandocfilters>=1.4.1 in /usr/local/lib/python3.6/dist-packages (from nbconvert->jupyter->fastai) (1.4.2)\n",
            "Requirement already satisfied: mistune>=0.7.4 in /usr/local/lib/python3.6/dist-packages (from nbconvert->jupyter->fastai) (0.8.3)\n",
            "Requirement already satisfied: chardet<3.1.0,>=3.0.2 in /usr/local/lib/python3.6/dist-packages (from requests->torchtext->fastai) (3.0.4)\n",
            "Requirement already satisfied: idna<2.7,>=2.5 in /usr/local/lib/python3.6/dist-packages (from requests->torchtext->fastai) (2.6)\n",
            "Requirement already satisfied: urllib3<1.23,>=1.21.1 in /usr/local/lib/python3.6/dist-packages (from requests->torchtext->fastai) (1.22)\n",
            "Building wheels for collected packages: torchtext, bcolz, feather-format\n",
            "  Running setup.py bdist_wheel for torchtext ... \u001b[?25l-\b \b\\\b \bdone\n",
            "\u001b[?25h  Stored in directory: /content/.cache/pip/wheels/42/a6/f4/b267328bde6bb680094a0c173e8e5627ccc99543abded97204\n",
            "  Running setup.py bdist_wheel for bcolz ... \u001b[?25l-\b \b\\\b \b|\b \b/\b \b-\b \b\\\b \b|\b \b/\b \b-\b \b\\"
          ],
          "name": "stdout"
        },
        {
          "output_type": "stream",
          "text": [
            "\b \b|\b \b/\b \b-\b \b\\\b \b|\b \b/\b \b-\b \b\\\b \b|\b \b/\b \b-\b \b\\\b \b|\b \b/\b \b-\b \b\\\b \b|\b \b/\b \b-\b \b\\\b \b|\b \b/\b \b-\b \b\\\b \b|\b \b/\b \b-\b \b\\\b \b|\b \b/\b \b-\b \b\\\b \b|\b \b/\b \b-\b \b\\\b \b|\b \b/\b \b-\b \b\\\b \b|\b \b/\b \b-\b \b\\\b \b|\b \b/\b \b-\b \b\\\b \b|\b \b/\b \b-\b \b\\\b \bdone\n",
            "\u001b[?25h  Stored in directory: /content/.cache/pip/wheels/9f/78/26/fb8c0acb91a100dc8914bf236c4eaa4b207cb876893c40b745\n",
            "  Running setup.py bdist_wheel for feather-format ... \u001b[?25l-\b \bdone\n",
            "\u001b[?25h  Stored in directory: /content/.cache/pip/wheels/85/7d/12/2dfa5c0195f921ac935f5e8f27deada74972edc0ae9988a9c1\n",
            "Successfully built torchtext bcolz feather-format\n",
            "\u001b[31mtorchvision 0.2.1 has requirement pillow>=4.1.1, but you'll have pillow 4.0.0 which is incompatible.\u001b[0m\n",
            "\u001b[31mplotnine 0.3.0 has requirement scipy>=1.0.0, but you'll have scipy 0.19.1 which is incompatible.\u001b[0m\n",
            "Installing collected packages: sklearn-pandas, torch, torchvision, graphviz, widgetsnbextension, palettable, mizani, plotnine, qtconsole, ipywidgets, jupyter-console, jupyter, tqdm, torchtext, pandas-summary, bcolz, parso, jedi, isoweek, pyarrow, feather-format, fastai\n",
            "Successfully installed bcolz-1.2.1 fastai-0.7.0 feather-format-0.4.0 graphviz-0.8.4 ipywidgets-7.3.1 isoweek-1.3.3 jedi-0.12.1 jupyter-1.0.0 jupyter-console-5.2.0 mizani-0.4.6 palettable-3.1.1 pandas-summary-0.0.5 parso-0.3.1 plotnine-0.3.0 pyarrow-0.9.0 qtconsole-4.3.1 sklearn-pandas-1.6.0 torch-0.3.1 torchtext-0.2.3 torchvision-0.2.1 tqdm-4.24.0 widgetsnbextension-3.3.1\n"
          ],
          "name": "stdout"
        }
      ]
    },
    {
      "metadata": {
        "id": "HYtQfIdDUAHX",
        "colab_type": "code",
        "colab": {
          "base_uri": "https://localhost:8080/",
          "height": 90
        },
        "outputId": "69d8705d-26ab-418d-93a4-e157e821758d"
      },
      "cell_type": "code",
      "source": [
        "!git clone https://github.com/PacktPublishing/Deep-learning-with-PyTorch-video.git"
      ],
      "execution_count": 2,
      "outputs": [
        {
          "output_type": "stream",
          "text": [
            "Cloning into 'Deep-learning-with-PyTorch-video'...\n",
            "remote: Counting objects: 89, done.\u001b[K\n",
            "remote: Total 89 (delta 0), reused 0 (delta 0), pack-reused 89\u001b[K\n",
            "Unpacking objects: 100% (89/89), done.\n"
          ],
          "name": "stdout"
        }
      ]
    },
    {
      "metadata": {
        "id": "krcB3VTGWGfY",
        "colab_type": "code",
        "colab": {
          "base_uri": "https://localhost:8080/",
          "height": 35
        },
        "outputId": "f5b7b375-5415-4aa0-9151-0b9bf3717772"
      },
      "cell_type": "code",
      "source": [
        "cd Deep-learning-with-PyTorch-video/"
      ],
      "execution_count": 3,
      "outputs": [
        {
          "output_type": "stream",
          "text": [
            "/content/Deep-learning-with-PyTorch-video\n"
          ],
          "name": "stdout"
        }
      ]
    },
    {
      "metadata": {
        "id": "aLvr8-XNfU_Z",
        "colab_type": "text"
      },
      "cell_type": "markdown",
      "source": [
        "## Simple NN"
      ]
    },
    {
      "metadata": {
        "id": "bCN_gvgrfWwp",
        "colab_type": "code",
        "colab": {}
      },
      "cell_type": "code",
      "source": [
        "import torch\n",
        "import torch.nn as nn\n",
        "import matplotlib.pyplot as plt\n",
        "\n",
        "from torch.autograd import Variable\n",
        "\n",
        "# Custom DataSet\n",
        "from data import iris"
      ],
      "execution_count": 0,
      "outputs": []
    },
    {
      "metadata": {
        "id": "SKXqZj5ofYsp",
        "colab_type": "code",
        "colab": {
          "base_uri": "https://localhost:8080/",
          "height": 199
        },
        "outputId": "ef1de5de-770a-4447-a12c-52c44056f87c"
      },
      "cell_type": "code",
      "source": [
        "!head data/iris.data.txt"
      ],
      "execution_count": 6,
      "outputs": [
        {
          "output_type": "stream",
          "text": [
            "sepal_length_cm,sepal_width_cm,petal_length_cm,petal_width_cm,class\r\n",
            "5.1,3.5,1.4,0.2,Iris-setosa\r\n",
            "4.9,3.0,1.4,0.2,Iris-setosa\r\n",
            "4.7,3.2,1.3,0.2,Iris-setosa\r\n",
            "4.6,3.1,1.5,0.2,Iris-setosa\r\n",
            "5.0,3.6,1.4,0.2,Iris-setosa\r\n",
            "5.4,3.9,1.7,0.4,Iris-setosa\r\n",
            "4.6,3.4,1.4,0.3,Iris-setosa\r\n",
            "5.0,3.4,1.5,0.2,Iris-setosa\r\n",
            "4.4,2.9,1.4,0.2,Iris-setosa\r\n"
          ],
          "name": "stdout"
        }
      ]
    },
    {
      "metadata": {
        "id": "BQrsgvzAgxSy",
        "colab_type": "text"
      },
      "cell_type": "markdown",
      "source": [
        "### Create the Fully Connected Feed Forward Neural Network"
      ]
    },
    {
      "metadata": {
        "id": "q-xvgywQg03B",
        "colab_type": "text"
      },
      "cell_type": "markdown",
      "source": [
        "**Create the module**"
      ]
    },
    {
      "metadata": {
        "id": "NoEmV7n9gEi7",
        "colab_type": "code",
        "colab": {}
      },
      "cell_type": "code",
      "source": [
        "class IrisNet(nn.Module): # this is how to create a neural network in PyTorch, inherit nn.Module class\n",
        "    \n",
        "    def __init__(self, input_size, hidden1_size, hidden2_size, num_classes): \n",
        "      # Constructor function, passed with the object. We can initialize it if we want\n",
        "        \n",
        "        super(IrisNet, self).__init__() # assigning the same to parent class\n",
        "        # names are arbitrary\n",
        "        # just defining functions here. That will be used later.\n",
        "        # Here we are creating the computational graph\n",
        "        self.fc1 = nn.Linear(input_size, hidden1_size) \n",
        "        self.relu1 = nn.ReLU()\n",
        "        self.fc2 = nn.Linear(hidden1_size, hidden2_size)\n",
        "        self.relu2 = nn.ReLU()\n",
        "        self.fc3 = nn.Linear(hidden2_size, num_classes)  \n",
        "    \n",
        "    def forward(self, x):\n",
        "        out = self.fc1(x)\n",
        "        out = self.relu1(out)\n",
        "        out = self.fc2(out)\n",
        "        out = self.relu2(out)\n",
        "        out = self.fc3(out)\n",
        "        return out"
      ],
      "execution_count": 0,
      "outputs": []
    },
    {
      "metadata": {
        "id": "336S_AVWg8ug",
        "colab_type": "text"
      },
      "cell_type": "markdown",
      "source": [
        "**Print the module**"
      ]
    },
    {
      "metadata": {
        "id": "gE8lbZTSg_3G",
        "colab_type": "code",
        "colab": {
          "base_uri": "https://localhost:8080/",
          "height": 145
        },
        "outputId": "c477e09d-4a2c-47fd-cd7b-e6709a22764e"
      },
      "cell_type": "code",
      "source": [
        "model = IrisNet(4, 100, 50, 3)\n",
        "print(model)"
      ],
      "execution_count": 8,
      "outputs": [
        {
          "output_type": "stream",
          "text": [
            "IrisNet(\n",
            "  (fc1): Linear(in_features=4, out_features=100, bias=True)\n",
            "  (relu1): ReLU()\n",
            "  (fc2): Linear(in_features=100, out_features=50, bias=True)\n",
            "  (relu2): ReLU()\n",
            "  (fc3): Linear(in_features=50, out_features=3, bias=True)\n",
            ")\n"
          ],
          "name": "stdout"
        }
      ]
    },
    {
      "metadata": {
        "id": "e2A3GoI-hDCG",
        "colab_type": "text"
      },
      "cell_type": "markdown",
      "source": [
        "### Create DataLoader"
      ]
    },
    {
      "metadata": {
        "id": "qG9prtp-hH0O",
        "colab_type": "code",
        "colab": {}
      },
      "cell_type": "code",
      "source": [
        "batch_size = 60\n",
        "iris_data_file = 'data/iris.data.txt'"
      ],
      "execution_count": 0,
      "outputs": []
    },
    {
      "metadata": {
        "id": "kDnxYG2ilff4",
        "colab_type": "text"
      },
      "cell_type": "markdown",
      "source": [
        "Batch size is how many data the network will handle at a time. It helps with the limitation of RAM. If the dataset is too high we cannot load the whole into RAM and GPU memory. So, we split our training set into multiple batches. batch_size * number_of_batches = 1 epoch. That means, if there is 120 data, we cannot load all of them together, we load 60 at a time twice. That means in 2 batch."
      ]
    },
    {
      "metadata": {
        "id": "4rYoIFIdhLVM",
        "colab_type": "code",
        "colab": {
          "base_uri": "https://localhost:8080/",
          "height": 54
        },
        "outputId": "06be2848-c349-44fd-cbd3-000bd2398e61"
      },
      "cell_type": "code",
      "source": [
        "# Get the datasets\n",
        "train_ds, test_ds = iris.get_datasets(iris_data_file)\n",
        "\n",
        "# How many instances have we got?\n",
        "print('# instances in training set: ', len(train_ds))\n",
        "print('# instances in testing/validation set: ', len(test_ds))\n",
        "\n",
        "# Create the dataloaders - for training and validation/testing\n",
        "# We will be using the term validation and testing data interchangably\n",
        "train_loader = torch.utils.data.DataLoader(dataset=train_ds, batch_size=batch_size, shuffle=True) # PyTorch library, can't argue with that\n",
        "test_loader  = torch.utils.data.DataLoader(dataset=test_ds, batch_size=batch_size, shuffle=True)"
      ],
      "execution_count": 10,
      "outputs": [
        {
          "output_type": "stream",
          "text": [
            "# instances in training set:  120\n",
            "# instances in testing/validation set:  30\n"
          ],
          "name": "stdout"
        }
      ]
    },
    {
      "metadata": {
        "id": "cYy0u3g1hN6I",
        "colab_type": "text"
      },
      "cell_type": "markdown",
      "source": [
        "### Instantiate the network, the loss function and the optimizer"
      ]
    },
    {
      "metadata": {
        "id": "uia37Zdtm0LL",
        "colab_type": "text"
      },
      "cell_type": "markdown",
      "source": [
        "We could look into what other kind of Optimizers are available here\n",
        "\n",
        "Notice, we never defined the Backpropagation function. That is taken care of by the library itself.\n",
        "\n",
        "As the architecture is known, there is no harm if the library automatically takes care of the Backprop."
      ]
    },
    {
      "metadata": {
        "id": "ArYfaSYkhRiH",
        "colab_type": "code",
        "colab": {}
      },
      "cell_type": "code",
      "source": [
        "# Our model\n",
        "net = IrisNet(4, 100, 50, 3) # 4 row in dataset, sepal and petal length and width\n",
        "\n",
        "# Out loss function\n",
        "criterion = nn.CrossEntropyLoss() # where did we use it??\n",
        "                                  # in training\n",
        "\n",
        "# Our optimizer\n",
        "learning_rate = 0.001\n",
        "optimizer = torch.optim.SGD(net.parameters(), lr=learning_rate, nesterov=True, momentum=0.9, dampening=0)"
      ],
      "execution_count": 0,
      "outputs": []
    },
    {
      "metadata": {
        "id": "6J4SVaoehUu_",
        "colab_type": "text"
      },
      "cell_type": "markdown",
      "source": [
        "### Train it"
      ]
    },
    {
      "metadata": {
        "id": "zXdU_TgFri9z",
        "colab_type": "text"
      },
      "cell_type": "markdown",
      "source": [
        "This is the hardest part to understand. Lot of stuff going on, not everything makes sense. We can watch the video again if it explained WTF just happened, so that in future we can make our own network without seeing anything from the scratch."
      ]
    },
    {
      "metadata": {
        "id": "jORC5lC4hXzr",
        "colab_type": "code",
        "colab": {}
      },
      "cell_type": "code",
      "source": [
        "num_epochs  = 500\n",
        "\n",
        "train_loss = []\n",
        "test_loss = []\n",
        "train_accuracy = []\n",
        "test_accuracy = []\n",
        "\n",
        "for epoch in range(num_epochs):\n",
        "    \n",
        "    train_correct = 0 # How many correct in this epoch. To calculate accuracy\n",
        "    train_total = 0\n",
        "    \n",
        "    for i, (items, classes) in enumerate(train_loader):\n",
        "        \n",
        "        # Convert torch tensor to Variable\n",
        "        # WTF is a Variable here???\n",
        "        items = Variable(items)\n",
        "        classes = Variable(classes)\n",
        "        \n",
        "                              # Who the Fuck defined 'net'???\n",
        "        net.train()           # Put the network into training mode\n",
        "        \n",
        "        optimizer.zero_grad() # Clear off the gradients from any past operation\n",
        "        outputs = net(items)  # Do the forward pass\n",
        "        loss = criterion(outputs, classes) # Calculate the loss\n",
        "        loss.backward()       # Calculate the gradients with help of back propagation\n",
        "        optimizer.step()      # Ask the optimizer to adjust the parameters based on the gradients\n",
        "        \n",
        "        # Record the correct predictions for training data\n",
        "        train_total += classes.size(0)    \n",
        "        _, predicted = torch.max(outputs.data, 1)\n",
        "        train_correct += (predicted == classes.data).sum()\n",
        "\n",
        "        print ('Epoch %d/%d, Iteration %d/%d, Loss: %.4f' \n",
        "               %(epoch+1, num_epochs, i+1, len(train_ds)//batch_size, loss.data[0]))\n",
        "\n",
        "    net.eval()                 # Put the network into evaluation mode\n",
        "    \n",
        "    # Book keeping\n",
        "    # Record the loss\n",
        "    train_loss.append(loss.data[0])\n",
        "\n",
        "    # What was our train accuracy?\n",
        "    train_accuracy.append((100 * train_correct / train_total))\n",
        "    \n",
        "    # How did we do on the test set (the unseen set)\n",
        "    # Record the correct predictions for test data\n",
        "    test_items = torch.FloatTensor(test_ds.data.values[:, 0:4])\n",
        "    test_classes = torch.LongTensor(test_ds.data.values[:, 4])\n",
        "\n",
        "    outputs = net(Variable(test_items))\n",
        "    loss = criterion(outputs, Variable(test_classes))\n",
        "    test_loss.append(loss.data[0])\n",
        "    _, predicted = torch.max(outputs.data, 1)\n",
        "    total = test_classes.size(0)\n",
        "    correct = (predicted == test_classes).sum()\n",
        "    test_accuracy.append((100 * correct / total))"
      ],
      "execution_count": 0,
      "outputs": []
    },
    {
      "metadata": {
        "id": "2Bfz0xoIhg0w",
        "colab_type": "text"
      },
      "cell_type": "markdown",
      "source": [
        "**Plot loss function**"
      ]
    },
    {
      "metadata": {
        "id": "fc8KXG8ghjO1",
        "colab_type": "code",
        "colab": {
          "base_uri": "https://localhost:8080/",
          "height": 498
        },
        "outputId": "434eecf4-28a1-4e5d-aedd-113b97adb4fb"
      },
      "cell_type": "code",
      "source": [
        "fig = plt.figure(figsize=(12, 8))\n",
        "plt.plot(train_loss, label='train loss')\n",
        "plt.plot(test_loss, label='test loss')\n",
        "plt.title(\"Train and Test Loss\")\n",
        "plt.legend()\n",
        "plt.show()"
      ],
      "execution_count": 13,
      "outputs": [
        {
          "output_type": "display_data",
          "data": {
            "image/png": "[encoded data removed]",
            "text/plain": [
              "<matplotlib.figure.Figure at 0x7fb0f7555ba8>"
            ]
          },
          "metadata": {
            "tags": []
          }
        }
      ]
    },
    {
      "metadata": {
        "id": "XLf0CKZEhl4_",
        "colab_type": "code",
        "colab": {
          "base_uri": "https://localhost:8080/",
          "height": 498
        },
        "outputId": "18834123-0e01-490a-ebe2-a9239ed6621f"
      },
      "cell_type": "code",
      "source": [
        "fig = plt.figure(figsize=(12, 8))\n",
        "plt.plot(train_accuracy, label='train accuracy')\n",
        "plt.plot(test_accuracy, label='test accuracy')\n",
        "plt.title(\"Train and Test Accuracy\")\n",
        "plt.legend()\n",
        "plt.show()"
      ],
      "execution_count": 14,
      "outputs": [
        {
          "output_type": "display_data",
          "data": {
            "image/png": "[encoded data removed]",
            "text/plain": [
              "<matplotlib.figure.Figure at 0x7fb0f64ea668>"
            ]
          },
          "metadata": {
            "tags": []
          }
        }
      ]
    },
    {
      "metadata": {
        "id": "ckmDt2VihsDZ",
        "colab_type": "text"
      },
      "cell_type": "markdown",
      "source": [
        "### Savign the model to disk, and loading it back"
      ]
    },
    {
      "metadata": {
        "id": "D9_ZIaMqhtDw",
        "colab_type": "code",
        "colab": {}
      },
      "cell_type": "code",
      "source": [
        "torch.save(net.state_dict(), \"./2.model.pth\")"
      ],
      "execution_count": 0,
      "outputs": []
    },
    {
      "metadata": {
        "id": "igdXTIHUhvnZ",
        "colab_type": "code",
        "colab": {}
      },
      "cell_type": "code",
      "source": [
        "net2 = IrisNet(4, 100, 50, 3)\n",
        "net2.load_state_dict(torch.load(\"./2.model.pth\"))"
      ],
      "execution_count": 0,
      "outputs": []
    },
    {
      "metadata": {
        "id": "7xoTnX2-hye8",
        "colab_type": "code",
        "colab": {}
      },
      "cell_type": "code",
      "source": [
        "output = net2(Variable(torch.FloatTensor([[5.1, 3.5, 1.4, 0.2]])))"
      ],
      "execution_count": 0,
      "outputs": []
    },
    {
      "metadata": {
        "id": "GeSndUn7h1fh",
        "colab_type": "code",
        "colab": {
          "base_uri": "https://localhost:8080/",
          "height": 54
        },
        "outputId": "0dff320a-5b64-4336-dd60-980b299e9b74"
      },
      "cell_type": "code",
      "source": [
        "_,  predicted_class  = torch.max(output.data, 1)\n",
        "print('Predicted class: ', predicted_class.numpy()[0])\n",
        "print('Expected class: ', 0 )"
      ],
      "execution_count": 19,
      "outputs": [
        {
          "output_type": "stream",
          "text": [
            "Predicted class:  0\n",
            "Expected class:  0\n"
          ],
          "name": "stdout"
        }
      ]
    },
    {
      "metadata": {
        "id": "0spzdiG4rWyC",
        "colab_type": "code",
        "colab": {}
      },
      "cell_type": "code",
      "source": [
        ""
      ],
      "execution_count": 0,
      "outputs": []
    }
  ]
}